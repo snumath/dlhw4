{
 "cells": [
  {
   "cell_type": "markdown",
   "metadata": {},
   "source": [
    "# VAE\n",
    "Variational autoencoder [1] models inherit autoencoder architecture, but make strong assumptions concerning the distribution of latent variables. They use variational approach for latent representation learning\n",
    "\n",
    "[1] Auto-Encoding Variational Bayes, Diederik P Kingma, Max Welling 2013"
   ]
  },
  {
   "cell_type": "code",
   "execution_count": 1,
   "metadata": {},
   "outputs": [],
   "source": [
    "# Setup\n",
    "import tensorflow as tf\n",
    "import numpy as np\n",
    "import matplotlib.pyplot as plt\n",
    "import matplotlib.gridspec as gridspec\n",
    "import os\n",
    "from tensorflow.examples.tutorials.mnist import input_data\n",
    "from tensorflow.contrib.slim import fully_connected as fc"
   ]
  },
  {
   "cell_type": "code",
   "execution_count": 2,
   "metadata": {},
   "outputs": [
    {
     "name": "stdout",
     "output_type": "stream",
     "text": [
      "WARNING:tensorflow:From <ipython-input-2-5d2637325bfc>:2: read_data_sets (from tensorflow.contrib.learn.python.learn.datasets.mnist) is deprecated and will be removed in a future version.\n",
      "Instructions for updating:\n",
      "Please use alternatives such as official/mnist/dataset.py from tensorflow/models.\n",
      "WARNING:tensorflow:From /home/genius/.local/lib/python3.6/site-packages/tensorflow/contrib/learn/python/learn/datasets/mnist.py:260: maybe_download (from tensorflow.contrib.learn.python.learn.datasets.base) is deprecated and will be removed in a future version.\n",
      "Instructions for updating:\n",
      "Please write your own downloading logic.\n",
      "WARNING:tensorflow:From /home/genius/.local/lib/python3.6/site-packages/tensorflow/contrib/learn/python/learn/datasets/mnist.py:262: extract_images (from tensorflow.contrib.learn.python.learn.datasets.mnist) is deprecated and will be removed in a future version.\n",
      "Instructions for updating:\n",
      "Please use tf.data to implement this functionality.\n",
      "Extracting ../../MNIST_data/train-images-idx3-ubyte.gz\n",
      "WARNING:tensorflow:From /home/genius/.local/lib/python3.6/site-packages/tensorflow/contrib/learn/python/learn/datasets/mnist.py:267: extract_labels (from tensorflow.contrib.learn.python.learn.datasets.mnist) is deprecated and will be removed in a future version.\n",
      "Instructions for updating:\n",
      "Please use tf.data to implement this functionality.\n",
      "Extracting ../../MNIST_data/train-labels-idx1-ubyte.gz\n",
      "WARNING:tensorflow:From /home/genius/.local/lib/python3.6/site-packages/tensorflow/contrib/learn/python/learn/datasets/mnist.py:110: dense_to_one_hot (from tensorflow.contrib.learn.python.learn.datasets.mnist) is deprecated and will be removed in a future version.\n",
      "Instructions for updating:\n",
      "Please use tf.one_hot on tensors.\n",
      "Extracting ../../MNIST_data/t10k-images-idx3-ubyte.gz\n",
      "Extracting ../../MNIST_data/t10k-labels-idx1-ubyte.gz\n",
      "WARNING:tensorflow:From /home/genius/.local/lib/python3.6/site-packages/tensorflow/contrib/learn/python/learn/datasets/mnist.py:290: DataSet.__init__ (from tensorflow.contrib.learn.python.learn.datasets.mnist) is deprecated and will be removed in a future version.\n",
      "Instructions for updating:\n",
      "Please use alternatives such as official/mnist/dataset.py from tensorflow/models.\n"
     ]
    }
   ],
   "source": [
    "# Load MNIST data\n",
    "mnist = input_data.read_data_sets('../../MNIST_data', one_hot=True)\n",
    "X_dim = mnist.train.images.shape[1]\n",
    "y_dim = mnist.train.labels.shape[1]\n",
    "num_data = mnist.train.num_examples\n",
    "\n",
    "def plot(samples):\n",
    "    fig = plt.figure(figsize=(4, 4))\n",
    "    gs = gridspec.GridSpec(4, 4)\n",
    "    gs.update(wspace=0.05, hspace=0.05)\n",
    "\n",
    "    for i, sample in enumerate(samples):\n",
    "        ax = plt.subplot(gs[i])\n",
    "        plt.axis('off')\n",
    "        ax.set_xticklabels([])\n",
    "        ax.set_yticklabels([])\n",
    "        ax.set_aspect('equal')\n",
    "        plt.imshow(sample.reshape(28, 28), cmap='Greys_r')\n",
    "\n",
    "    return fig"
   ]
  },
  {
   "cell_type": "code",
   "execution_count": 3,
   "metadata": {},
   "outputs": [],
   "source": [
    "# Hyperparamters. Your job to find these.\n",
    "num_epochs = 100\n",
    "batch_size = 100\n",
    "z_dim = 784\n",
    "lr = 0.001"
   ]
  },
  {
   "cell_type": "markdown",
   "metadata": {},
   "source": [
    "# Encoder \n",
    "Implement the encoder network $Q_\\phi(z \\mid x)$. Use Tensorflow's `fully_connected` function [API guide](https://www.tensorflow.org/api_docs/python/tf/contrib/layers/fully_connected) to write less lines or code. Use 3 shared FC layers and 1 FC layer at the end for the mean $\\mu(X_i)$ and another 1 FC layer at the end for the diagonal variance $\\sigma(X_i)$.\n",
    "\n",
    "Also, implement the reparameterization trick we talked about in the class.\n",
    "\n",
    "- Do take a look at the API and make sure to not use any non-linearities at the final layer!\n",
    "- Make it return log of the variance so we work with smaller numbers (for stability)!"
   ]
  },
  {
   "cell_type": "code",
   "execution_count": 4,
   "metadata": {},
   "outputs": [],
   "source": [
    "X = tf.placeholder(tf.float32, shape=[None, X_dim])\n",
    "\n",
    "def Q(X):\n",
    "    y1 = fc(X, 512, activation_fn=tf.nn.elu)\n",
    "    y2 = fc(y1, 384, activation_fn=tf.nn.elu)\n",
    "    y3 = fc(y2, 256, activation_fn=tf.nn.elu)    \n",
    "    \n",
    "    z_mu = fc(y3, X_dim, activation_fn = None)\n",
    "    z_logvar = fc(y3, X_dim, activation_fn = None)\n",
    "    # Your code here for encoder network.\n",
    "    return z_mu, z_logvar\n",
    "    \n",
    "def sample_z(mu, log_var):\n",
    "    # Your code here for the reparameterization trick.\n",
    "    # reparameterized_sample = ...\n",
    "    eps = tf.random_normal(shape=tf.shape(log_var),mean=0, stddev=1, dtype=tf.float32)\n",
    "    reparameterized_sample = mu + tf.sqrt(tf.exp(log_var)) * eps\n",
    "    return reparameterized_sample"
   ]
  },
  {
   "cell_type": "markdown",
   "metadata": {},
   "source": [
    "# Decoder\n",
    "Implement the decoder network $P_\\theta(X \\mid z)$. Use Tensorflow's `fully_connected` function [API guide](https://www.tensorflow.org/api_docs/python/tf/contrib/layers/fully_connected) to write less lines or code as well.\n",
    "\n",
    "In this exercise, we will use Bernoulli MLP decoder explained in Appendix C.1 in the original paper.\n",
    "\n",
    "Use 3 FC layers and 1 FC layer at the end for the unnormalized and normalized logits."
   ]
  },
  {
   "cell_type": "code",
   "execution_count": 5,
   "metadata": {},
   "outputs": [],
   "source": [
    "def P(z):\n",
    "    y1 = fc(z, 256, activation_fn=tf.nn.elu)\n",
    "    y2 = fc(y1, 384, activation_fn=tf.nn.elu)\n",
    "    y3 = fc(y2, 512, activation_fn=tf.nn.elu)\n",
    "    \n",
    "    logits = fc(y3, X_dim, activation_fn=tf.sigmoid)\n",
    "    prob = tf.nn.softmax(logits)\n",
    "    return prob, logits"
   ]
  },
  {
   "cell_type": "markdown",
   "metadata": {},
   "source": [
    "# Rest of the graph\n",
    "We can define the rest of the network as below."
   ]
  },
  {
   "cell_type": "code",
   "execution_count": 6,
   "metadata": {},
   "outputs": [
    {
     "name": "stdout",
     "output_type": "stream",
     "text": [
      "Tensor(\"Placeholder:0\", shape=(?, 784), dtype=float32)\n",
      "(?, 784)\n",
      "(?, 784)\n",
      "(?, 784)\n",
      "(?, 784)\n"
     ]
    }
   ],
   "source": [
    "z_mu, z_logvar = Q(X)\n",
    "z_sample = sample_z(z_mu, z_logvar)\n",
    "X_samples, logits = P(z_sample)"
   ]
  },
  {
   "cell_type": "markdown",
   "metadata": {},
   "source": [
    "# Graph loss function\n",
    "You might find `tf.nn.sigmoid_cross_entropy_with_logits` function [API guide](https://www.tensorflow.org/api_docs/python/tf/nn/sigmoid_cross_entropy_with_logits) useful."
   ]
  },
  {
   "cell_type": "code",
   "execution_count": 7,
   "metadata": {},
   "outputs": [
    {
     "name": "stdout",
     "output_type": "stream",
     "text": [
      "Tensor(\"Neg:0\", shape=(?,), dtype=float32)\n",
      "Tensor(\"mul_3:0\", shape=(?,), dtype=float32)\n",
      "Tensor(\"Mean:0\", shape=(), dtype=float32)\n"
     ]
    }
   ],
   "source": [
    "# Your code here for the reconstruction loss\n",
    "\n",
    "#recon_loss = -tf.reduce_sum(tf.nn.sigmoid_cross_entropy_with_logits(labels = X_samples, logits = logits))\n",
    "#recon_loss = tf.reduce_mean(recon_loss)\n",
    "\n",
    "epsilon = 1e-10\n",
    "recon_loss = -tf.reduce_sum(X * tf.log(epsilon+X_samples) + (1-X) * tf.log(epsilon+1-X_samples), axis=1)\n",
    "\n",
    "# Your code here for the closed form KL loss discussed in class\n",
    "kl_loss = 0.5 * tf.reduce_sum(1 + z_logvar - tf.square(z_mu) - tf.exp(z_logvar), axis=1)\n",
    "\n",
    "\n",
    "# Total loss\n",
    "vae_loss = tf.reduce_mean(recon_loss - kl_loss)"
   ]
  },
  {
   "cell_type": "code",
   "execution_count": 10,
   "metadata": {},
   "outputs": [
    {
     "name": "stderr",
     "output_type": "stream",
     "text": [
      "/home/genius/.local/lib/python3.6/site-packages/tensorflow/python/client/session.py:1711: UserWarning: An interactive session is already active. This can cause out-of-memory errors in some cases. You must explicitly call `InteractiveSession.close()` to release resources held by the other session(s).\n",
      "  warnings.warn('An interactive session is already active. This can '\n"
     ]
    }
   ],
   "source": [
    "# Optimizer and solver\n",
    "solver = tf.train.AdamOptimizer(learning_rate=lr).minimize(vae_loss)\n",
    "sess = tf.InteractiveSession()\n",
    "sess.run(tf.global_variables_initializer())"
   ]
  },
  {
   "cell_type": "markdown",
   "metadata": {},
   "source": [
    "# Train a _great_ generative model on MNIST!\n",
    "\n",
    "Now, it's your job to experiment with hyperparameters defined in the beggining. The code below will also generate images and save the results to `figures/` directory. We are attaching the example images from our run and we expect your images to be of similar quality. \n",
    "![](out/080.png)\n"
   ]
  },
  {
   "cell_type": "code",
   "execution_count": 9,
   "metadata": {},
   "outputs": [
    {
     "name": "stdout",
     "output_type": "stream",
     "text": [
      "Epoch: 0, Loss: 623.0\n",
      "Epoch: 5, Loss: 594.4\n",
      "Epoch: 10, Loss: 638.1\n",
      "Epoch: 15, Loss: 635.9\n"
     ]
    }
   ],
   "source": [
    "if not os.path.exists('figures/'):\n",
    "    os.makedirs('figures/')\n",
    "\n",
    "for epoch in range(num_epochs):\n",
    "    for it in range(num_data // batch_size):\n",
    "        X_mb, _ = mnist.train.next_batch(batch_size)\n",
    "\n",
    "        _, loss = sess.run([solver, vae_loss], feed_dict={X: X_mb})\n",
    "\n",
    "    if epoch % 5 == 0:\n",
    "        print('Epoch: {}, Loss: {:.4}'. format(epoch, loss))\n",
    "\n",
    "        samples = sess.run(X_samples, feed_dict={z_sample: np.random.randn(16, z_dim)})\n",
    "\n",
    "        fig = plot(samples)\n",
    "        plt.savefig('figures/{}.png'.format(str(epoch).zfill(3)), bbox_inches='tight')\n",
    "        plt.close(fig)"
   ]
  }
 ],
 "metadata": {
  "kernelspec": {
   "display_name": "Python 3",
   "language": "python",
   "name": "python3"
  },
  "language_info": {
   "codemirror_mode": {
    "name": "ipython",
    "version": 3
   },
   "file_extension": ".py",
   "mimetype": "text/x-python",
   "name": "python",
   "nbconvert_exporter": "python",
   "pygments_lexer": "ipython3",
   "version": "3.6.5"
  }
 },
 "nbformat": 4,
 "nbformat_minor": 2
}
